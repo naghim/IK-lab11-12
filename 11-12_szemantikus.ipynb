{
  "cells": [
    {
      "cell_type": "markdown",
      "metadata": {
        "id": "QeHntfRx2K9p"
      },
      "source": [
        "# Szemantikus web\n",
        "\n",
        "A [szemantikus web](https://hu.wikipedia.org/wiki/Szemantikus_web) célja, hogy az interneten található információkat egységes, nemzetközileg elfogadott formában strukturálja, így azok nemcsak emberek, hanem gépek számára is könnyen értelmezhetők legyenek.\n",
        "\n",
        "Vegyünk például egy videót: a szemantikus web lehetővé teszi, hogy a videóhoz tartozó legfontosabb jellemzőket (például a címét, leírását, thumbnailját, készítőjét és megjelenési dátumát) egy szabványos szerkezetbe csomagoljuk. Ezt a struktúrát más videómegosztó oldalak is felhasználhatják arra, hogy saját tartalmaikat hasonló módon leírják, ezáltal a különböző platformokon található információk könnyebben összehasonlíthatóvá és újrafelhasználhatóvá válnak.\n",
        "\n",
        "A strukturált adatok használatának köszönhetően ugyanazzal a szoftverrel kiolvasható például egy Amazonon található termék és egy eMAG-on található termék leírása is. Ezeket az adatokat keresőmotorok (például a Google) is felhasználják, amikor megjelenítenek egy terméket, egy videót, vagy épp összegyűjtik egy ismert személy nyilvános adatait. Hasonló elven működik a [Discord](https://discord.com) is: amikor valaki beilleszt egy linket a csevegésbe, a program a háttérben kinyeri és megjeleníti a weboldal metaadatait, például a címet, képet és leírást.\n",
        "\n",
        "<div style=\"display: flex; flex-direction: row; width: 30%; gap: 1em\"><img src=\"https://i.imgur.com/o7eJgf4.png\" /><img src=\"https://i.imgur.com/D7KqSOw.png\" /> <img src=\"https://i.imgur.com/yVPn9tc.png\" /></div>\n",
        "\n",
        "A szemantikus web egyik legelterjedtebb adatleíró formátuma a `JSON-LD` (JSON for Linking Data), amelyet a weboldalak egy speciális `<script>` tagban helyeznek el. Ennek MIME-típusa `application/ld+json`, és ez tartalmazza azokat az adatokat, amelyeket a keresőmotorok vagy más alkalmazások képesek értelmezni és feldolgozni.\n",
        "\n",
        "# Példa"
      ]
    },
    {
      "cell_type": "markdown",
      "metadata": {},
      "source": [
        "Pythonban használhatjuk az eddig már ismert `httpx` csomagot, hogy letöltsünk egy weboldalt, illetve a `beautifulsoup4` csomagot, hogy feldolgozzuk a HTML tartalmakat.\n",
        "\n",
        "Legelső lépésben telepítsük ezeket a könyvtárakat. Ez a következő paranccsal tehetjük meg, ha nincsenek fent: `python -m pip install --upgrade httpx beautifulsoup4`"
      ]
    },
    {
      "cell_type": "markdown",
      "metadata": {},
      "source": [
        "Készítünk egy függvényt, amivel letöltjük egy megadott URL szemantikus adatait. Egy oldalon több szemantikus adat is található:"
      ]
    },
    {
      "cell_type": "code",
      "execution_count": null,
      "metadata": {
        "colab": {
          "base_uri": "https://localhost:8080/",
          "height": 265
        },
        "id": "MEw3mzad5YiJ",
        "outputId": "c6d9fcb6-622e-440e-95ab-919b89f1b21a"
      },
      "outputs": [],
      "source": [
        "import httpx\n",
        "from bs4 import BeautifulSoup\n",
        "import json\n",
        "\n",
        "def fetch_jsonld_data(url):\n",
        "\t# Töltsük le a weboldal tartalmát\n",
        "\tresponse = httpx.get(url)\n",
        "\thtml_content = response.text\n",
        "\n",
        "\t# Keressük ki a weboldalból a JSON-LD adatokat\n",
        "\tsoup = BeautifulSoup(html_content, \"html.parser\")\n",
        "\tjsonld_scripts = soup.find_all(\"script\", type=\"application/ld+json\")\n",
        "\n",
        "\t# Dekódoljuk a JSON adatokat\n",
        "\tjsonld_data = [json.loads(script.string) for script in jsonld_scripts]\n",
        "\n",
        "\treturn jsonld_data\n",
        "\n",
        "url = 'https://en.wikipedia.org/wiki/Tabby_cat'\n",
        "jsonld_datas = fetch_jsonld_data(url)\n",
        "\n",
        "jsonld_datas"
      ]
    },
    {
      "cell_type": "markdown",
      "metadata": {},
      "source": [
        "Akár a cikk képét is meg tudjuk jeleníteni:"
      ]
    },
    {
      "cell_type": "code",
      "execution_count": null,
      "metadata": {
        "id": "76Z2VQvB6sZU"
      },
      "outputs": [],
      "source": [
        "from IPython.display import Image\n",
        "\n",
        "image_url = jsonld_datas[0]['image']\n",
        "Image(httpx.get(image_url).content)"
      ]
    },
    {
      "cell_type": "markdown",
      "metadata": {
        "id": "vZsnP4WS5l1w"
      },
      "source": [
        "## Feladatok"
      ]
    },
    {
      "cell_type": "markdown",
      "metadata": {},
      "source": [
        "1. Keress [eMAG](https://www.emag.ro/)-on egy terméket, és jelenítsd meg a hozzátartozó metaadatokat (a HTML `<head>` részében keresd)! Érdekeltek vagyunk a termék nevében, leírásában, és ha elérhető, akkor az árában is. **Segítség**: Keresd meg azt a metaadatot a listából, aminek a típusa `Product`. "
      ]
    },
    {
      "cell_type": "code",
      "execution_count": null,
      "metadata": {},
      "outputs": [],
      "source": []
    },
    {
      "cell_type": "markdown",
      "metadata": {},
      "source": [
        "2. Használd fel ugyanezt a kódot, hogy egy [eBay](https://www.ebay.com/)-ről származó termék adatait is kiirasd! Itt elégséges csak a termék nevét és árát kiírni. Vigyázat: az eMAG-on RON-ban vannak az árak, eBay-en pedig EUR-ban! Használd a `priceCurrency` nevű adattagot a pénznem kiiratásához!"
      ]
    },
    {
      "cell_type": "code",
      "execution_count": null,
      "metadata": {},
      "outputs": [],
      "source": []
    },
    {
      "cell_type": "markdown",
      "metadata": {},
      "source": [
        "3. Strukturált adatokat nem csupán JSON-LD formátumban lehet kinyerni. Próbáld kinyerni a következő cikk nevét és leírását a `twitter` prefixel rendelkező metatagokból: https://undertaleyellow.fandom.com/wiki/Clover. Használd a `View page source` gombot, hogy megtekintsd az oldal forráskódját!"
      ]
    },
    {
      "cell_type": "code",
      "execution_count": null,
      "metadata": {},
      "outputs": [],
      "source": []
    },
    {
      "cell_type": "markdown",
      "metadata": {},
      "source": [
        "4. Látogass el egy tetszőleges film [IMDb](https://www.imdb.com/) oldalára, és keresd meg az alábbi adatokat az oldal HTML kódjában található metatag(ek)ből: (1) a film címe; (2) megjelenés éve; (3) IMDb érékelés; (4) műfaj(ok). Ha nincsenek külön tagek erre, használj egyszerű szövegfeldolgozást a metatag(ek) feldarabolásához."
      ]
    },
    {
      "cell_type": "code",
      "execution_count": null,
      "metadata": {},
      "outputs": [],
      "source": []
    },
    {
      "cell_type": "markdown",
      "metadata": {},
      "source": [
        "5. Amikor például megosztasz egy cikket pl. Facebookon, az automatikusan a posztba beilleszti a cikk címét, leírását és képét - ezek az Open Graph (OG) metaadatokból jönnek. Látogass el egy tetszőleges hírportálra (pl. [index.hu](https://index.hu/), [24.hu](https://24.hu), [maszol.ro](https://maszol.ro/), [bbc.co.uk](www.bbc.com) stb.) és keresd ki egy tetszőleges cikk esetén, hogy miket jelenítene meg abban az esetben, ha a cikket megosztanánk egy közösségi oldalon. "
      ]
    },
    {
      "cell_type": "code",
      "execution_count": null,
      "metadata": {},
      "outputs": [],
      "source": []
    },
    {
      "cell_type": "markdown",
      "metadata": {},
      "source": [
        "6.  A Wikipédián levő adatok egy SPARQL nevű lekérdezőnyelv segítségével kereshetők. Keresd meg az összes olyan személyt a https://query.wikidata.org/querybuilder oldal segítségével, aki a Marosvásárhelyi Bolyai Farkas Elméleti Líceumban tanult (`educated at`). Másold ki és elemezd a SPARQL lekérdezést."
      ]
    },
    {
      "cell_type": "code",
      "execution_count": null,
      "metadata": {},
      "outputs": [],
      "source": []
    }
  ],
  "metadata": {
    "colab": {
      "collapsed_sections": [],
      "name": "lab13.ipynb",
      "provenance": []
    },
    "kernelspec": {
      "display_name": "Python 3",
      "name": "python3"
    },
    "language_info": {
      "codemirror_mode": {
        "name": "ipython",
        "version": 3
      },
      "file_extension": ".py",
      "mimetype": "text/x-python",
      "name": "python",
      "nbconvert_exporter": "python",
      "pygments_lexer": "ipython3",
      "version": "3.13.3"
    }
  },
  "nbformat": 4,
  "nbformat_minor": 0
}

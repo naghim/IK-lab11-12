{
  "cells": [
    {
      "cell_type": "markdown",
      "metadata": {
        "id": "QeHntfRx2K9p"
      },
      "source": [
        "# Szemantikus Web\n",
        "\n",
        "A [szemantikus web](https://hu.wikipedia.org/wiki/Szemantikus_web) lényege, hogy az interneten talált információkat nemzetközileg elismert és előre egyeztetett formában strukturálja.\n",
        "\n",
        "Például, hogyha egy videóról lenne szó, akkor a videó nevét, leírását, thumbnailjét, készítőjének nevét, és kiadási dátumát egy videót leíró struktúrába tudnánk csomagolni a szemantikus web segítségével. Ezt a struktúrát más videómegosztó oldalak is felhasználhatják, hogy a saját videóikat felcímkézzék.\n",
        "\n",
        "Ugyanazzal a szoftverrel kiolvashatóvá válik így például egy Amazon termék adata és egy eMAG termék adata. Ezeket az információkat felhasználhatják a keresőmotrok is, például mikor megjelenítenek egy terméket, egy videót, vagy amikor megjelenítenek több információt egy keresett személyről, stb. A [Discord](https://discord.com) chat program is felhasználhatja ezeket az adatokat, hogy megjelenítse egy elküldött link metaadatait beágyazott formában.\n",
        "\n",
        "<div style=\"display: flex; flex-direction: row; width: 30%; gap: 1em\"><img src=\"https://i.imgur.com/o7eJgf4.png\" /><img src=\"https://i.imgur.com/D7KqSOw.png\" /></div>\n",
        "\n",
        "A szemantikus web egyik reprezentációs nyelve a [JSON-LD (JSON for Linking Data)](https://json-ld.org/). Ezeket az adatokat a weboldalak egy `script` tagban tárolják, aminek a MIME `type`-ja `application/ld+json`.\n",
        "\n",
        "# Példa"
      ]
    },
    {
      "cell_type": "markdown",
      "metadata": {},
      "source": [
        "Pythonban használhatjuk a `requests` csomagot, hogy letöltsünk egy weboldalt, illetve a `beautifulsoup4` csomagot, hogy feldolgozzuk a HTML tartalmakat.\n",
        "\n",
        "Legelső lépésben telepítsük ezeket a könyvtárakat:"
      ]
    },
    {
      "cell_type": "code",
      "execution_count": null,
      "metadata": {},
      "outputs": [],
      "source": [
        "!python -m pip install --upgrade requests beautifulsoup4"
      ]
    },
    {
      "cell_type": "markdown",
      "metadata": {},
      "source": [
        "Készítünk egy függvényt, amivel letöltjük egy megadott URL szemantikus adatait. Egy oldalon több szemantikus adat is található:"
      ]
    },
    {
      "cell_type": "code",
      "execution_count": null,
      "metadata": {
        "colab": {
          "base_uri": "https://localhost:8080/",
          "height": 265
        },
        "id": "MEw3mzad5YiJ",
        "outputId": "c6d9fcb6-622e-440e-95ab-919b89f1b21a"
      },
      "outputs": [],
      "source": [
        "import requests\n",
        "from bs4 import BeautifulSoup\n",
        "import json\n",
        "\n",
        "def fetch_jsonld_data(url):\n",
        "\t# Töltsük le a weboldal tartalmát\n",
        "\tresponse = requests.get(url)\n",
        "\thtml_content = response.text\n",
        "\n",
        "\t# Keressük ki a weboldalból a JSON-LD adatokat\n",
        "\tsoup = BeautifulSoup(html_content, \"html.parser\")\n",
        "\tjsonld_scripts = soup.find_all(\"script\", type=\"application/ld+json\")\n",
        "\n",
        "\t# Dekódoljuk a JSON adatokat\n",
        "\tjsonld_data = [json.loads(script.string) for script in jsonld_scripts]\n",
        "\n",
        "\treturn jsonld_data\n",
        "\n",
        "url = 'https://en.wikipedia.org/wiki/Tabby_cat'\n",
        "jsonld_datas = fetch_jsonld_data(url)\n",
        "\n",
        "jsonld_datas"
      ]
    },
    {
      "cell_type": "markdown",
      "metadata": {},
      "source": [
        "Akár a cikk képét is meg tudjuk jeleníteni:"
      ]
    },
    {
      "cell_type": "code",
      "execution_count": null,
      "metadata": {
        "id": "76Z2VQvB6sZU"
      },
      "outputs": [],
      "source": [
        "from IPython.display import Image\n",
        "\n",
        "image_url = jsonld_datas[0]['image']\n",
        "Image(requests.get(image_url).content)"
      ]
    },
    {
      "cell_type": "markdown",
      "metadata": {
        "id": "vZsnP4WS5l1w"
      },
      "source": [
        "## Feladatok"
      ]
    },
    {
      "cell_type": "markdown",
      "metadata": {},
      "source": [
        "1. Keress eMAG-on egy terméket, és jelenítsd meg a hozzátartozó metaadatokat! Érdekeltek vagyunk a termék nevében, leírásában, és ha elérhető, az árában. Segítség: Keresd meg azt a metaadatot a listából, aminek a típusa `Product`. "
      ]
    },
    {
      "cell_type": "code",
      "execution_count": null,
      "metadata": {},
      "outputs": [],
      "source": []
    },
    {
      "cell_type": "markdown",
      "metadata": {},
      "source": [
        "2. Használd fel ugyanezt a kódot, hogy egy eBay-ről származó termék adatait is kiirasd! Itt elégséges csak a termék nevét és árát kiírni. Vigyázat: az eMAG-on RON-ban vannak az árak, eBay-en pedig EUR-ban! Használd a `priceCurrency` nevű adattagot a pénznem kiiratásához!"
      ]
    },
    {
      "cell_type": "code",
      "execution_count": null,
      "metadata": {},
      "outputs": [],
      "source": []
    },
    {
      "cell_type": "markdown",
      "metadata": {},
      "source": [
        "3. Strukturált adatokat nem csupán JSON-LD formátumban lehet kinyerni. Próbáld kinyerni a következő cikk nevét és leírását a `twitter` prefixel rendelkező metatagokból: https://undertaleyellow.fandom.com/wiki/Clover. Használd a `View page source` gombot, hogy megtekintsd az oldal forráskódját!"
      ]
    },
    {
      "cell_type": "code",
      "execution_count": null,
      "metadata": {},
      "outputs": [],
      "source": []
    },
    {
      "cell_type": "markdown",
      "metadata": {},
      "source": [
        "4.  A Wikipédián levő adatok egy SPARQL nevű lekérdezőnyelv segítségével kereshetők. Keresd meg az összes olyan személyt a https://query.wikidata.org/querybuilder oldal segítségével, aki a Marosvásárhelyi Bolyai Farkas Elméleti Líceumban tanult (`educated at`). Másold ki és elemezd a SPARQL lekérdezést."
      ]
    },
    {
      "cell_type": "code",
      "execution_count": null,
      "metadata": {},
      "outputs": [],
      "source": []
    }
  ],
  "metadata": {
    "colab": {
      "collapsed_sections": [],
      "name": "lab13.ipynb",
      "provenance": []
    },
    "kernelspec": {
      "display_name": "Python 3",
      "name": "python3"
    },
    "language_info": {
      "codemirror_mode": {
        "name": "ipython",
        "version": 3
      },
      "file_extension": ".py",
      "mimetype": "text/x-python",
      "name": "python",
      "nbconvert_exporter": "python",
      "pygments_lexer": "ipython3",
      "version": "3.12.3"
    }
  },
  "nbformat": 4,
  "nbformat_minor": 0
}
